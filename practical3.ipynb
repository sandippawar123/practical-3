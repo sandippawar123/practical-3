{
  "nbformat": 4,
  "nbformat_minor": 0,
  "metadata": {
    "colab": {
      "name": "practical3.ipynb",
      "provenance": []
    },
    "kernelspec": {
      "name": "python3",
      "display_name": "Python 3"
    },
    "language_info": {
      "name": "python"
    }
  },
  "cells": [
    {
      "cell_type": "markdown",
      "source": [
        "*Write a program to perform different Arithmetic Operations on numbers in Python.**\n",
        "\n",
        "Python divides *the operators in the following groups:\n",
        "1.   Arithmetic operators\n",
        "2.   Assignment operators\n",
        "3.   Comparison operators\n",
        "4.   Logical operators\n",
        "5.   Identity operators\n",
        "6.   Membership operators\n",
        "7.   Bitwise operators\n"
      ],
      "metadata": {
        "id": "S_PmFWYC6nmo"
      }
    },
    {
      "cell_type": "code",
      "source": [
        "num1 = float(input(\" Please Enter the First Value Number 1: \"))\n",
        "num2 = float(input(\" Please Enter the Second Value Number 2: \"))\n",
        "\n",
        "# Add Two Numbers\n",
        "add = num1 + num2\n",
        "\n",
        "# Subtracting num2 from num1\n",
        "sub = num1 - num2\n",
        "\n",
        "# Multiply num1 with num2\n",
        "multi = num1 * num2\n",
        "\n",
        "# Divide num1 by num2\n",
        "div = num1 / num2\n",
        "\n",
        "# Modulus of num1 and num2\n",
        "mod = num1 % num2\n",
        "\n",
        "# Exponent of num1 and num2\n",
        "expo = num1 ** num2\n",
        "\n",
        "print(\"The Sum of {0} and {1} = {2}\".format(num1, num2, add))\n",
        "print(\"The Subtraction of {0} from {1} = {2}\".format(num2, num1, sub))\n",
        "print(\"The Multiplication of {0} and {1} = {2}\".format(num1, num2, multi))\n",
        "print(\"The Division of {0} and {1} = {2}\".format(num1, num2, div))\n",
        "print(\"The Modulus of {0} and {1} = {2}\".format(num1, num2, mod))\n",
        "print(\"The Exponent Value of {0} and {1} = {2}\".format(num1, num2, expo))"
      ],
      "metadata": {
        "colab": {
          "base_uri": "https://localhost:8080/"
        },
        "id": "sGe7680U8rXE",
        "outputId": "48a25cc9-a232-4d4c-e264-580c6f02bcf9"
      },
      "execution_count": 3,
      "outputs": [
        {
          "output_type": "stream",
          "name": "stdout",
          "text": [
            " Please Enter the First Value Number 1: 16\n",
            " Please Enter the Second Value Number 2: 25\n",
            "The Sum of 16.0 and 25.0 = 41.0\n",
            "The Subtraction of 25.0 from 16.0 = -9.0\n",
            "The Multiplication of 16.0 and 25.0 = 400.0\n",
            "The Division of 16.0 and 25.0 = 0.64\n",
            "The Modulus of 16.0 and 25.0 = 16.0\n",
            "The Exponent Value of 16.0 and 25.0 = 1.2676506002282294e+30\n"
          ]
        }
      ]
    },
    {
      "cell_type": "markdown",
      "source": [
        "arithmatic operation on lists"
      ],
      "metadata": {
        "id": "5wYZbRgs9Apc"
      }
    },
    {
      "cell_type": "code",
      "source": [
        "NumList1 = [10, 50, 80]\n",
        "NumList2 = [5, 8, 3]\n",
        "add = []\n",
        "sub = []\n",
        "multi = []\n",
        "div = []\n",
        "mod = []\n",
        "expo = []\n",
        " \n",
        "for j in range(3):\n",
        "    add.append( NumList1[j] + NumList2[j])\n",
        "    sub.append( NumList1[j] - NumList2[j])\n",
        "    multi.append( NumList1[j] * NumList2[j])\n",
        "    div.append( NumList1[j] / NumList2[j])\n",
        "    mod.append( NumList1[j] % NumList2[j])\n",
        "    expo.append( NumList1[j] ** NumList2[j])\n",
        " \n",
        "print(\"\\nThe List Items after Addition =  \", add)\n",
        "print(\"The List Items after Subtraction =  \", sub)\n",
        "print(\"The List Items after Multiplication =  \", multi)\n",
        "print(\"The List Items after Division =  \", div)\n",
        "print(\"The List Items after Modulus =  \", mod)\n",
        "print(\"The List Items after Exponent =  \", expo)"
      ],
      "metadata": {
        "colab": {
          "base_uri": "https://localhost:8080/"
        },
        "id": "l4Y0HV8b8iHd",
        "outputId": "0ab9f7ce-cdcb-46f2-c6b9-62584d97255c"
      },
      "execution_count": 6,
      "outputs": [
        {
          "output_type": "stream",
          "name": "stdout",
          "text": [
            "\n",
            "The List Items after Addition =   [15, 58, 83]\n",
            "The List Items after Subtraction =   [5, 42, 77]\n",
            "The List Items after Multiplication =   [50, 400, 240]\n",
            "The List Items after Division =   [2.0, 6.25, 26.666666666666668]\n",
            "The List Items after Modulus =   [0, 2, 2]\n",
            "The List Items after Exponent =   [100000, 39062500000000, 512000]\n"
          ]
        }
      ]
    },
    {
      "cell_type": "markdown",
      "source": [
        "assignment operator"
      ],
      "metadata": {
        "id": "Y0-cHNzN9xCL"
      }
    },
    {
      "cell_type": "code",
      "source": [
        "#Add and Assign: This operator is used to add the right side operand with the left side operand and then assigning the result to the left operand.\n",
        "a = 79\n",
        "b = 70\n",
        "  \n",
        "# a = a + b\n",
        "a += b\n",
        "  \n",
        "# Output\n",
        "print(a)"
      ],
      "metadata": {
        "colab": {
          "base_uri": "https://localhost:8080/"
        },
        "id": "xaQMsDsa91Ry",
        "outputId": "cfab2cbf-cfa0-48c9-f9d1-0a1328b2451a"
      },
      "execution_count": 7,
      "outputs": [
        {
          "output_type": "stream",
          "name": "stdout",
          "text": [
            "149\n"
          ]
        }
      ]
    },
    {
      "cell_type": "code",
      "source": [
        "#Subtract and Assign: This operator is used to subtract the right operand from the left operand and then assigning the result to the left operand.\n",
        "a = 60\n",
        "b = 50\n",
        "  \n",
        "# a = a - b\n",
        "a -= b\n",
        "  \n",
        "# Output\n",
        "print(a)"
      ],
      "metadata": {
        "colab": {
          "base_uri": "https://localhost:8080/"
        },
        "id": "28NoOLsN-GgL",
        "outputId": "17cb9c9c-52b2-4e13-c731-4aa1fc38abd6"
      },
      "execution_count": 8,
      "outputs": [
        {
          "output_type": "stream",
          "name": "stdout",
          "text": [
            "10\n"
          ]
        }
      ]
    },
    {
      "cell_type": "code",
      "source": [
        "# Multiply and Assign: This operator is used to multiply the right operand with the left operand and then assigning the result to the left operand.\n",
        "a = 40\n",
        "b = 50\n",
        "#a = a * b\n",
        "a+=5\n",
        "\n",
        "  \n",
        "# Output\n",
        "print(a)"
      ],
      "metadata": {
        "colab": {
          "base_uri": "https://localhost:8080/"
        },
        "id": "-nQT14Bp-LR6",
        "outputId": "6f41e652-2cd2-4bcc-bd40-7ba3cf7998ff"
      },
      "execution_count": 9,
      "outputs": [
        {
          "output_type": "stream",
          "name": "stdout",
          "text": [
            "45\n"
          ]
        }
      ]
    },
    {
      "cell_type": "code",
      "source": [
        "#Divide and Assign: This operator is used to divide the left operand with the right operand and then assigning the result to the left operand.\n",
        "\n",
        "a = 30\n",
        "b = 50\n",
        "  \n",
        "# a = a / b\n",
        "a /= b\n",
        "  \n",
        "# Output\n",
        "print(a)"
      ],
      "metadata": {
        "colab": {
          "base_uri": "https://localhost:8080/"
        },
        "id": "milO9_9t-T-6",
        "outputId": "c4ec9b18-4a76-4f37-ad08-569d98f3f240"
      },
      "execution_count": 10,
      "outputs": [
        {
          "output_type": "stream",
          "name": "stdout",
          "text": [
            "0.6\n"
          ]
        }
      ]
    },
    {
      "cell_type": "code",
      "source": [
        "#Modulus and Assign: This operator is used to take the modulus using the left and the right operands and then assigning the result to the left operand.\n",
        "a = 30\n",
        "b = 50\n",
        "  \n",
        "# a = a % b\n",
        "a %= b\n",
        "  \n",
        "# Output\n",
        "print(a)"
      ],
      "metadata": {
        "colab": {
          "base_uri": "https://localhost:8080/"
        },
        "id": "P89Ly0lk-ahY",
        "outputId": "68ddb6ec-bdea-4db4-f85b-2959768cfe6d"
      },
      "execution_count": 11,
      "outputs": [
        {
          "output_type": "stream",
          "name": "stdout",
          "text": [
            "30\n"
          ]
        }
      ]
    },
    {
      "cell_type": "code",
      "source": [
        "#Divide (floor) and Assign: This operator is used to divide the left operand with the right operand and then assigning the result(floor) to the left operand.\n",
        "a = 30\n",
        "b = 50\n",
        "  \n",
        "# a = a // b\n",
        "a //= b\n",
        "  \n",
        "# Output\n",
        "print(a)"
      ],
      "metadata": {
        "colab": {
          "base_uri": "https://localhost:8080/"
        },
        "id": "__Khd2YF-jHB",
        "outputId": "18592b72-f27a-4849-fd8e-bd118f7d3bd8"
      },
      "execution_count": 12,
      "outputs": [
        {
          "output_type": "stream",
          "name": "stdout",
          "text": [
            "0\n"
          ]
        }
      ]
    },
    {
      "cell_type": "code",
      "source": [
        "#Exponent and Assign: This operator is used to calculate the exponent(raise power) value using operands and then assigning the result to the left operand.\n",
        "a = 30\n",
        "b = 5\n",
        "\n",
        "# a = a ** b\n",
        "a **= b\n",
        "\n",
        "# Output\n",
        "print(a)\n"
      ],
      "metadata": {
        "colab": {
          "base_uri": "https://localhost:8080/"
        },
        "id": "TwYBMabV-op7",
        "outputId": "21596264-cb4b-445b-c6fc-9b8f43c8066a"
      },
      "execution_count": 13,
      "outputs": [
        {
          "output_type": "stream",
          "name": "stdout",
          "text": [
            "24300000\n"
          ]
        }
      ]
    },
    {
      "cell_type": "code",
      "source": [
        "#Bitwise AND and Assign: This operator is used to perform Bitwise AND on both operands and then assigning the result to the left operand.\n",
        "a = 32\n",
        "b = 5\n",
        "\n",
        "# a = a & b\n",
        "a &= b\n",
        "\n",
        "# Output\n",
        "print(a)\n"
      ],
      "metadata": {
        "colab": {
          "base_uri": "https://localhost:8080/"
        },
        "id": "D6P0RMcO_PJK",
        "outputId": "d4b0e132-6ff4-4c4e-e2b4-f7c2f1be30fe"
      },
      "execution_count": 24,
      "outputs": [
        {
          "output_type": "stream",
          "name": "stdout",
          "text": [
            "0\n"
          ]
        }
      ]
    },
    {
      "cell_type": "code",
      "source": [
        "#Bitwise OR and Assign: This operator is used to perform Bitwise OR on the operands and then assigning result to the left operand.\n",
        "a = 32\n",
        "b = 5\n",
        "\n",
        "# a = a | b\n",
        "a |= b\n",
        "\n",
        "# Output\n",
        "print(a)\n"
      ],
      "metadata": {
        "colab": {
          "base_uri": "https://localhost:8080/"
        },
        "id": "Z3TycAYt_TES",
        "outputId": "41a130b7-2103-48eb-e121-cae40976b02e"
      },
      "execution_count": 25,
      "outputs": [
        {
          "output_type": "stream",
          "name": "stdout",
          "text": [
            "37\n"
          ]
        }
      ]
    },
    {
      "cell_type": "code",
      "source": [
        "#Bitwise XOR and Assign: This operator is used to perform Bitwise XOR on the operands and then assigning result to the left operand.\n",
        "a = 32\n",
        "b = 5\n",
        "\n",
        "# a = a ^ b\n",
        "a ^= b\n",
        "\n",
        "# Output\n",
        "print(a)\n"
      ],
      "metadata": {
        "colab": {
          "base_uri": "https://localhost:8080/"
        },
        "id": "sgeTZMC6_Wob",
        "outputId": "6f72baae-83d3-4ba3-ddd3-4d71f01a8837"
      },
      "execution_count": 26,
      "outputs": [
        {
          "output_type": "stream",
          "name": "stdout",
          "text": [
            "37\n"
          ]
        }
      ]
    },
    {
      "cell_type": "code",
      "source": [
        "#Bitwise Right Shift and Assign: This operator is used to perform Bitwise right shift on the operands and then assigning result to the left operand.\n",
        "a = 32\n",
        "b = 5\n",
        "\n",
        "# a = a >> b\n",
        "a >>= b\n",
        "\n",
        "# Output\n",
        "print(a)"
      ],
      "metadata": {
        "colab": {
          "base_uri": "https://localhost:8080/"
        },
        "id": "y8iNiNSE_bur",
        "outputId": "858cf10c-55de-46e9-e23c-5495f46a4695"
      },
      "execution_count": 27,
      "outputs": [
        {
          "output_type": "stream",
          "name": "stdout",
          "text": [
            "1\n"
          ]
        }
      ]
    },
    {
      "cell_type": "code",
      "source": [
        "#Bitwise Left Shift and Assign: This operator is used to perform Bitwise left shift on the operands and then assigning result to the left operand.\n",
        "a = 32\n",
        "b = 5\n",
        "\n",
        "# a = a << b\n",
        "a <<= b\n",
        "\n",
        "# Output\n",
        "print(a)\n"
      ],
      "metadata": {
        "colab": {
          "base_uri": "https://localhost:8080/"
        },
        "id": "THkR4XyL_gGF",
        "outputId": "b59d1bb2-70d9-4b72-90aa-f598933489dd"
      },
      "execution_count": 28,
      "outputs": [
        {
          "output_type": "stream",
          "name": "stdout",
          "text": [
            "1024\n"
          ]
        }
      ]
    }
  ]
}